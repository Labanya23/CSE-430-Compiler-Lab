{
  "nbformat": 4,
  "nbformat_minor": 0,
  "metadata": {
    "colab": {
      "provenance": []
    },
    "kernelspec": {
      "name": "python3",
      "display_name": "Python 3"
    },
    "language_info": {
      "name": "python"
    }
  },
  "cells": [
    {
      "cell_type": "code",
      "execution_count": 1,
      "metadata": {
        "colab": {
          "base_uri": "https://localhost:8080/"
        },
        "id": "JYER-fqyzZXt",
        "outputId": "2bfcc817-a9d8-4195-9f1d-574498cd2027"
      },
      "outputs": [
        {
          "output_type": "stream",
          "name": "stdout",
          "text": [
            "Keyword (4): if, int, main, void\n",
            "Identifier (3): a, b, c\n",
            "Constant (3): 0, 10, 2\n",
            "Arithmetic Operator (3): *, +, =\n",
            "Logical Operator (1): !=\n",
            "Punctuation (2): ,, ;\n",
            "Parenthesis (4): (, ), {, }\n"
          ]
        }
      ],
      "source": [
        "import re\n",
        "\n",
        "keywords = {\"void\", \"main\", \"int\", \"if\", \"else\", \"char\", \"float\"}\n",
        "arith_ops = {'+', '-', '*', '/', '='}\n",
        "logical_ops = {'>', '>=', '<', '<=', '==', '!='}\n",
        "punctuations = {',', ';', ':'}\n",
        "parentheses = {'(', ')', '{', '}', '[', ']'}\n",
        "\n",
        "code = '''\n",
        "/*Multi line comment\n",
        "2nd line\n",
        "*/\n",
        "\n",
        "void main()\n",
        "{\n",
        "int a, b, c;\n",
        "//comment\n",
        "int a = b*c + 10;\n",
        "if(a!=2)\n",
        "a = 0;\n",
        "}\n",
        "'''\n",
        "code = re.sub(r'/\\*.*?\\*/', '', code, flags=re.DOTALL)\n",
        "code = re.sub(r'//.*', '', code)\n",
        "\n",
        "tokens = re.findall(r\"[a-zA-Z_]\\w*|\\d+|==|!=|>=|<=|[(){}[\\],;:+\\-*/=<>]\", code)\n",
        "\n",
        "result = {\n",
        "    \"Keyword\": set(),\n",
        "    \"Identifier\": set(),\n",
        "    \"Constant\": set(),\n",
        "    \"Arithmetic Operator\": set(),\n",
        "    \"Logical Operator\": set(),\n",
        "    \"Punctuation\": set(),\n",
        "    \"Parenthesis\": set()\n",
        "}\n",
        "\n",
        "for token in tokens:\n",
        "    if token in keywords:\n",
        "        result[\"Keyword\"].add(token)\n",
        "    elif token in arith_ops:\n",
        "        result[\"Arithmetic Operator\"].add(token)\n",
        "    elif token in logical_ops:\n",
        "        result[\"Logical Operator\"].add(token)\n",
        "    elif token in punctuations:\n",
        "        result[\"Punctuation\"].add(token)\n",
        "    elif token in parentheses:\n",
        "        result[\"Parenthesis\"].add(token)\n",
        "    elif re.match(r'^\\d+$', token):\n",
        "        result[\"Constant\"].add(token)\n",
        "    elif re.match(r'[a-zA-Z_]\\w*', token):\n",
        "        result[\"Identifier\"].add(token)\n",
        "\n",
        "for category, items in result.items():\n",
        "    print(f\"{category} ({len(items)}): {', '.join(sorted(items))}\")\n"
      ]
    },
    {
      "cell_type": "code",
      "source": [
        "import re\n",
        "\n",
        "keywords = {\"void\", \"main\", \"int\", \"if\", \"else\", \"char\", \"float\"}\n",
        "arith_ops = {'+', '-', '*', '/', '='}\n",
        "logical_ops = {'>', '>=', '<', '<=', '==', '!='}\n",
        "punctuations = {',', ';', ':'}\n",
        "parentheses = {'(', ')', '{', '}', '[', ']'}\n",
        "\n",
        "code = '''\n",
        "void main()\n",
        "{\n",
        "int a, b, c;\n",
        "float d = 3.14;\n",
        "char ch = 'a';\n",
        "//comment\n",
        "int a = b*c + 10;\n",
        "}\n",
        "'''\n",
        "\n",
        "code = re.sub(r'/\\*.*?\\*/', '', code, flags=re.DOTALL)\n",
        "code = re.sub(r'//.*', '', code)\n",
        "\n",
        "tokens = re.findall(r\"[a-zA-Z_]\\w*|\\d+\\.\\d+|\\d+|'[^']'|==|!=|>=|<=|[(){}[\\],;:+\\-*/=<>]\", code)\n",
        "\n",
        "result = {\n",
        "    \"Keyword\": set(),\n",
        "    \"Identifier\": set(),\n",
        "    \"Constant\": set(),\n",
        "    \"Arithmetic Operator\": set(),\n",
        "    \"Logical Operator\": set(),\n",
        "    \"Punctuation\": set(),\n",
        "    \"Parenthesis\": set()\n",
        "}\n",
        "\n",
        "for token in tokens:\n",
        "    if token in keywords:\n",
        "        result[\"Keyword\"].add(token)\n",
        "    elif token in arith_ops:\n",
        "        result[\"Arithmetic Operator\"].add(token)\n",
        "    elif token in logical_ops:\n",
        "        result[\"Logical Operator\"].add(token)\n",
        "    elif token in punctuations:\n",
        "        result[\"Punctuation\"].add(token)\n",
        "    elif token in parentheses:\n",
        "        result[\"Parenthesis\"].add(token)\n",
        "    elif re.match(r'^\\d+(\\.\\d+)?$', token) or re.match(r\"'[^']'\", token):\n",
        "        result[\"Constant\"].add(token)\n",
        "    elif re.match(r'[a-zA-Z_]\\w*', token):\n",
        "        result[\"Identifier\"].add(token)\n",
        "\n",
        "for category, items in result.items():\n",
        "    print(f\"{category} ({len(items)}): {', '.join(sorted(items))}\")\n"
      ],
      "metadata": {
        "colab": {
          "base_uri": "https://localhost:8080/"
        },
        "id": "4y2MhQUVz7yX",
        "outputId": "cdab811a-1115-498a-d005-9f818c879efe"
      },
      "execution_count": 2,
      "outputs": [
        {
          "output_type": "stream",
          "name": "stdout",
          "text": [
            "Keyword (5): char, float, int, main, void\n",
            "Identifier (5): a, b, c, ch, d\n",
            "Constant (3): 'a', 10, 3.14\n",
            "Arithmetic Operator (3): *, +, =\n",
            "Logical Operator (0): \n",
            "Punctuation (2): ,, ;\n",
            "Parenthesis (4): (, ), {, }\n"
          ]
        }
      ]
    }
  ]
}